{
 "cells": [
  {
   "cell_type": "markdown",
   "metadata": {},
   "source": [
    "把转录文本从Youtube视频上复制下来，存到transcrpit.txt文件"
   ]
  },
  {
   "cell_type": "code",
   "execution_count": 1,
   "metadata": {},
   "outputs": [
    {
     "name": "stdout",
     "output_type": "stream",
     "text": [
      "d:\\OneDrive\\0_caijia\\1_code\\python\\yammi_utils\\yammi_utils\\translate_youtue_technique_videos\\transcript.txt\n"
     ]
    }
   ],
   "source": [
    "import os\n",
    "from rich.console import Console\n",
    "\n",
    "console = Console()\n",
    "DIR = os.path.abspath('')\n",
    "print(DIR+'\\\\transcript.txt')\n",
    "text_content = open(DIR+'\\\\transcript.txt','r', encoding='utf8')\n",
    "\n",
    "content_list = []\n",
    "for line in text_content:\n",
    "    line = line.strip()\n",
    "    content_list.append(line)"
   ]
  },
  {
   "cell_type": "markdown",
   "metadata": {},
   "source": [
    "在已经存了内容的列表中，格式是：时间、英文内容、时间。  \n",
    "需要辨别时间格式，遇到这类格式就跳过。  \n",
    "1. 时间格式，根据实际情况，分为2种，一种是只有分秒的时间，另一种是带小时的时间。  \n",
    "2. 带小时的时间是包含了分秒格式的，所以，只需要检查分秒。\n",
    "\n",
    "如果不是时间格式的，说明是内容，对应的内容去Deepl.com进行翻译  \n",
    "把翻译的内容存下来。  \n",
    "\n",
    "最后需要按照时间点，存储所有的翻译内容。  \n",
    "所以首先要从原有的数据中提取出时间点来，与翻译结果合并为一个列表。  "
   ]
  },
  {
   "cell_type": "code",
   "execution_count": 2,
   "metadata": {},
   "outputs": [
    {
     "data": {
      "text/html": [
       "<pre style=\"white-space:pre;overflow-x:auto;line-height:normal;font-family:Menlo,'DejaVu Sans Mono',consolas,'Courier New',monospace\"><span style=\"color: #008080; text-decoration-color: #008080; font-weight: bold\">339</span>\n",
       "</pre>\n"
      ],
      "text/plain": [
       "\u001b[1;36m339\u001b[0m\n"
      ]
     },
     "metadata": {},
     "output_type": "display_data"
    }
   ],
   "source": [
    "import re\n",
    "\n",
    "transcript_text = []\n",
    "time_node_list = []\n",
    "for each in content_list:\n",
    "    m_s = re.findall(r'\\d{1,2}:\\d{1,2}', each)\n",
    "    # h_m_s = re.findall(r'\\d{1,2}:\\d{1,2}:\\d{1,2}', each)\n",
    "    if len(m_s) > 0:\n",
    "        time_node_list.append(each)\n",
    "    else:        \n",
    "        # 确认输出的都是转录的文本了。\n",
    "        transcript_text.append(each)\n",
    "\n",
    "\n",
    "console.print(len(transcript_text))"
   ]
  },
  {
   "cell_type": "code",
   "execution_count": 3,
   "metadata": {},
   "outputs": [],
   "source": [
    "for i in range(len(transcript_text)):\n",
    "    if '. ' in transcript_text[i] and transcript_text[i][-1] != '.':\n",
    "        # print(each)\n",
    "        pos = transcript_text[i].find('.')\n",
    "        if round(pos/len(transcript_text[i]), 2) < 0.50:\n",
    "            sentences = transcript_text[i].split('.')\n",
    "            transcript_text[i-1] = transcript_text[i-1] + ' ' + sentences[0] + '.'\n",
    "            sentences.pop(0)\n",
    "            transcript_text[i] = ''\n",
    "            for each in sentences:\n",
    "                transcript_text[i] += each\n",
    "        elif round(pos/len(transcript_text[i]), 2) > 0.50:\n",
    "            sentences = transcript_text[i].split('.')\n",
    "            transcript_text[i+1] = sentences[-1] + ' ' + transcript_text[i+1]\n",
    "            sentences = sentences[:-1]\n",
    "            transcript_text[i] = ''\n",
    "            for each in sentences:\n",
    "                transcript_text[i] += each\n",
    "            transcript_text[i] = transcript_text[i] + '.'\n",
    "\n",
    "# console.print(transcript_text, len(transcript_text))\n",
    "\n",
    "\n"
   ]
  },
  {
   "cell_type": "markdown",
   "metadata": {},
   "source": [
    "格式化的问题\n",
    "\n",
    "因为字幕的断句是根据时间轴来的，所以如果我们直接按时间分割去翻译对应的字幕，会出现一些翻译的内容断章取义，从而无法获得最佳的翻译结果。\n",
    "如果仅仅直白地翻译，那么用Deepl也就没有了意义。\n",
    "\n",
    "所以我们需要对字幕文件进行一些断句的合并和分割处理。"
   ]
  },
  {
   "cell_type": "markdown",
   "metadata": {},
   "source": [
    "逐个提取transcript_text的内容，去Deepl.com进行翻译。\n",
    "需要用到的库，是selenium，以及对应的webdriver（此处用的是Google家的Chrome内核驱动）"
   ]
  },
  {
   "cell_type": "code",
   "execution_count": 4,
   "metadata": {},
   "outputs": [],
   "source": [
    "from selenium import webdriver\n",
    "\n",
    "from selenium.webdriver.common.keys import Keys\n",
    "from selenium.webdriver.common.by import By\n",
    "from selenium.webdriver.support.ui import WebDriverWait\n",
    "from selenium.webdriver.support import expected_conditions as EC\n",
    "\n",
    "# 初始化浏览器的设置项，然后初始化一个浏览器对象\n",
    "options = webdriver.ChromeOptions()\n",
    "options.add_experimental_option('excludeSwitches', ['enable-logging'])\n",
    "options.add_argument('headless')\n",
    "options.add_argument('--window-size=700x700')\n",
    "options.add_argument(\"--incognito\")\n",
    "\n",
    "# executable_path 的方法在新版本的selenium里已经被弃用了，会有错误提示：\n",
    "    ## C:\\Users\\MagicData\\AppData\\Local\\Temp\\ipykernel_1896\\126912059.py:12: DeprecationWarning: executable_path has been deprecated, please pass in a Service object\n",
    "# 解决办法：https://stackoverflow.com/questions/64717302/deprecationwarning-executable-path-has-been-deprecated-selenium-python\n",
    "# driver = webdriver.Chrome(options=options,executable_path=\"C:\\Python310\\chromedriver.exe\")\n",
    "from selenium.webdriver.chrome.service import Service\n",
    "from webdriver_manager.chrome import ChromeDriverManager"
   ]
  },
  {
   "cell_type": "markdown",
   "metadata": {},
   "source": [
    "测试一下前5条的翻译结果"
   ]
  },
  {
   "cell_type": "code",
   "execution_count": 6,
   "metadata": {},
   "outputs": [],
   "source": [
    "import clipboard\n",
    "import time\n",
    "\n",
    "translated = []\n",
    "\n",
    "try:\n",
    "    # 打开deepl.com的链接\n",
    "    driver = webdriver.Chrome(service=Service(ChromeDriverManager().install()))\n",
    "    driver.get('https://deepl.com')\n",
    "    for i in range(len(transcript_text)):\n",
    "        # 因为 deepl.com 的防爬虫机制做得很好，所以不要试图通过后端请求的方式去完成翻译，那样即便是一时爽，后面需要迭代的工作会很多，所以还是用前台方式访问，通过它本身的页面功能完成翻译。\n",
    "        # 要追求低成本地解决问题\n",
    "        clipboard.copy('')\n",
    "        clipboard.copy(transcript_text[i])\n",
    "        input_area = driver.find_element(By.CSS_SELECTOR, 'div.lmt__inner_textarea_container textarea')\n",
    "        input_area.send_keys(Keys.SHIFT, Keys.INSERT)\n",
    "        clipboard.copy('')\n",
    "\n",
    "        # 页面上往往会出现 cookies 确认按钮，这个按钮是欧盟的GDPR法规约束导致的，很多国外的网站上都有，所以尽量等一下\n",
    "        wait_times = 0\n",
    "        while wait_times < 3:\n",
    "            try:\n",
    "                cookies_btn = driver.find_element(By.CSS_SELECTOR, '#dl_cookieBanner > div > div > div > span > button')\n",
    "                if cookies_btn.is_enabled():\n",
    "                    cookies_btn.click()\n",
    "            except Exception as e:\n",
    "                # print(e)\n",
    "                pass\n",
    "\n",
    "            wait_times += 1\n",
    "            time.sleep(1)\n",
    "\n",
    "        # 获取翻译完的结果。\n",
    "        # 因为采用页面前台进行翻译，所以要充分考虑翻译结果延迟的情况。\n",
    "        RESULT = False\n",
    "        while RESULT == False:\n",
    "            try:\n",
    "                xpath = '//*[@id=\"panelTranslateText\"]/div[2]/div[2]/section[2]/div[3]/div[6]/div/div/div[2]/span[2]/span/span/button'\n",
    "                find_copy_btn = driver.find_element(By.XPATH, xpath)\n",
    "                find_copy_btn.click()\n",
    "\n",
    "                # 读取剪贴板进行检查。\n",
    "                text = clipboard.paste()\n",
    "                if len(text) > 0:\n",
    "                    RESULT = True\n",
    "                    # translated.append(text)\n",
    "                    f = open(DIR+'./translated.txt', 'a', encoding='utf8')\n",
    "                    f.write(time_node_list[i]+'\\n')\n",
    "                    f.write(transcript_text[i]+'\\n')\n",
    "                    f.write(text+'\\n')\n",
    "                    f.close()\n",
    "\n",
    "                    r = open(DIR+'./attr.txt', 'w', encoding='utf8')\n",
    "                    r.write('i='+ str(i) + '\\n')\n",
    "                    r.close()\n",
    "                    \n",
    "                    print(f'待翻译的文本：\\n\\n{transcript_text[i]}\\n')\n",
    "                    print(f'译文：\\n\\n{text}')\n",
    "                    print('*'*50 ,'\\n')\n",
    "                    \n",
    "                    # 获取内容后，要记得点一下翻译文本区域的清除\n",
    "                    xpath = '//*[@id=\"translator-source-clear-button\"]'\n",
    "                    clear_src_btn = driver.find_element(By.XPATH, xpath)\n",
    "                    clear_src_btn.click()\n",
    "                    time.sleep(1)\n",
    "            except Exception as e:\n",
    "                print(e)\n",
    "\n",
    "        if i % 10 == 0:\n",
    "            driver.close()\n",
    "            time.sleep(5)\n",
    "            driver = webdriver.Chrome(service=Service(ChromeDriverManager().install()))\n",
    "            driver.get('https://deepl.com')\n",
    "except Exception as e:\n",
    "    print(e)"
   ]
  }
 ],
 "metadata": {
  "kernelspec": {
   "display_name": "Python 3.10.5 64-bit",
   "language": "python",
   "name": "python3"
  },
  "language_info": {
   "codemirror_mode": {
    "name": "ipython",
    "version": 3
   },
   "file_extension": ".py",
   "mimetype": "text/x-python",
   "name": "python",
   "nbconvert_exporter": "python",
   "pygments_lexer": "ipython3",
   "version": "3.10.5"
  },
  "orig_nbformat": 4,
  "vscode": {
   "interpreter": {
    "hash": "369f2c481f4da34e4445cda3fffd2e751bd1c4d706f27375911949ba6bb62e1c"
   }
  }
 },
 "nbformat": 4,
 "nbformat_minor": 2
}
