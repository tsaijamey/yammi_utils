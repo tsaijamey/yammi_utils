{
 "cells": [
  {
   "attachments": {},
   "cell_type": "markdown",
   "metadata": {},
   "source": [
    "读取all.csv文件"
   ]
  },
  {
   "cell_type": "code",
   "execution_count": 88,
   "metadata": {},
   "outputs": [],
   "source": [
    "import os\n",
    "import datetime\n",
    "from rich.console import Console\n",
    "\n",
    "console = Console()\n",
    "DIR = os.path.abspath('')  # 在ipynb中，DIR的获取需要用abspath的方式，传参为空。在普通的python文件里，可以直接读取dirname。这个差异，可能跟ipynb文件的内部结构有关。\n",
    "read_auto = open(DIR+'\\\\all.csv', 'r', encoding='utf8')"
   ]
  },
  {
   "attachments": {},
   "cell_type": "markdown",
   "metadata": {},
   "source": [
    "把all.csv文件的内容，逐行读取进total_data的列表。  \n",
    "列表构建成3列，分别是时间（文本格式），物品名，和一个空列。  \n",
    "空列的用途是对第1列进行时间格式的转换，转换成时间戳形式，目的是用于排序和查重"
   ]
  },
  {
   "cell_type": "code",
   "execution_count": 89,
   "metadata": {},
   "outputs": [],
   "source": [
    "total_data = []\n",
    "for line in read_auto:\n",
    "    line = line.strip()\n",
    "    if line != '':\n",
    "        try:\n",
    "            # 用于处理某些数据异常情况，例如2条记录在同一行\n",
    "            if ',' in line:\n",
    "                time_, item_ = line.split(',')\n",
    "                total_data.append([time_, item_, 0])\n",
    "        except Exception as e:\n",
    "            console.print(line)\n",
    "\n",
    "read_auto.close()"
   ]
  },
  {
   "cell_type": "markdown",
   "metadata": {},
   "source": [
    "对 total_data 里的第1列进行转化，转成时间戳。\n",
    "转化后，存入到 total_data 的第3列\n",
    "然后按照第3列进行排序\n",
    "\n",
    "datetime库的用法 和 time库的用法相似。"
   ]
  },
  {
   "cell_type": "code",
   "execution_count": 90,
   "metadata": {},
   "outputs": [
    {
     "data": {
      "text/plain": [
       "[['2022-12-19 15:31:12', '贝斯', 1671435072],\n",
       " ['2022-12-19 15:32:10', '钢琴', 1671435130],\n",
       " ['2022-12-19 15:33:08', '小提琴', 1671435188],\n",
       " ['2022-12-19 15:34:06', '圆号', 1671435246],\n",
       " ['2022-12-19 15:35:04', '小提琴', 1671435304]]"
      ]
     },
     "execution_count": 90,
     "metadata": {},
     "output_type": "execute_result"
    }
   ],
   "source": [
    "for each in total_data:\n",
    "    # 把文本时间值 格式化成 时间值类型\n",
    "    time_ = datetime.datetime.strptime(each[0], '%Y-%m-%d %H:%M:%S')\n",
    "    # 时间值类型 转换成 时间戳\n",
    "    time_stamp = datetime.datetime.timestamp(time_)\n",
    "    each[2] = int(time_stamp)\n",
    "\n",
    "total_data.sort(key=lambda x:x[2])\n",
    "\n",
    "total_data[-5:]"
   ]
  },
  {
   "attachments": {},
   "cell_type": "markdown",
   "metadata": {},
   "source": [
    "建立2个列表。  \n",
    "unique用于保存不重复的值，remove用于保存重复的值。  \n",
    "根据时间值判断是否发生了重复。"
   ]
  },
  {
   "cell_type": "code",
   "execution_count": 91,
   "metadata": {},
   "outputs": [],
   "source": [
    "unique = []\n",
    "remove = []\n",
    "for each in total_data:\n",
    "    if each[2] in unique:\n",
    "        remove.append(each)\n",
    "    else:\n",
    "        unique.append(each[2])\n",
    "\n",
    "# 把重复的值从total_data中移除\n",
    "for each in remove:\n",
    "    total_data.remove(each)\n",
    "\n",
    "out = open(DIR+'\\\\deal_result.csv', 'w', encoding='utf8')\n",
    "\n",
    "for i in range(len(total_data)):\n",
    "    # if i > 0:\n",
    "    #     if total_data[i][2] - total_data[i-1][2] > 58:\n",
    "    #         out.write('\\n')\n",
    "    out.write(total_data[i][0]+','+total_data[i][1]+'\\n')\n",
    "\n",
    "out.close()"
   ]
  },
  {
   "attachments": {},
   "cell_type": "markdown",
   "metadata": {},
   "source": [
    "定义一个按时间间隔大小分割数据的函数。  \n",
    "如果两条相邻记录的时间间隔超过58秒，则认为这两条记录分别属于2个不同的数据集部分。  \n",
    "按照这个方式把total_data分割成不同的部分，存为total_data_split"
   ]
  },
  {
   "cell_type": "code",
   "execution_count": 86,
   "metadata": {},
   "outputs": [],
   "source": [
    "total_data_split = []\n",
    "_middle = []\n",
    "for i in range(len(total_data)-1):\n",
    "    _middle.append(total_data[i])\n",
    "    if total_data[i+1][2] - total_data[i][2] > 58:\n",
    "        total_data_split.append(_middle)\n",
    "        _middle = []\n",
    "\n",
    "total_data_split.append(_middle)\n",
    "_middle = []"
   ]
  },
  {
   "attachments": {},
   "cell_type": "markdown",
   "metadata": {},
   "source": [
    "对 total_data_split 进行进一步的加工。  \n",
    "取其每一部分，先判断总量是否超过20。如果没超过，则数据太短，舍弃。  \n",
    "如果超过了，则在这个部分内，按每次取21个值，重构成一个列表数据，前20项表示当前的历史记录（20条），第21项表示对应的结果。"
   ]
  },
  {
   "cell_type": "code",
   "execution_count": 87,
   "metadata": {},
   "outputs": [
    {
     "data": {
      "text/plain": [
       "[['2022-12-19 15:14:46', '吉他', 1671434086],\n",
       " ['2022-12-19 15:15:44', '钢琴', 1671434144],\n",
       " ['2022-12-19 15:16:42', '吉他', 1671434202],\n",
       " ['2022-12-19 15:17:40', '吉他', 1671434260],\n",
       " ['2022-12-19 15:18:38', '小提琴', 1671434318],\n",
       " ['2022-12-19 15:19:36', '小提琴', 1671434376],\n",
       " ['2022-12-19 15:20:34', '贝斯', 1671434434],\n",
       " ['2022-12-19 15:21:32', '钢琴', 1671434492],\n",
       " ['2022-12-19 15:22:30', '架子鼓', 1671434550],\n",
       " ['2022-12-19 15:23:28', '贝斯', 1671434608],\n",
       " ['2022-12-19 15:24:26', '贝斯', 1671434666],\n",
       " ['2022-12-19 15:25:24', '贝斯', 1671434724],\n",
       " ['2022-12-19 15:26:22', '竖琴', 1671434782],\n",
       " ['2022-12-19 15:27:20', '钢琴', 1671434840],\n",
       " ['2022-12-19 15:28:18', '贝斯', 1671434898],\n",
       " ['2022-12-19 15:29:16', '钢琴', 1671434956],\n",
       " ['2022-12-19 15:30:14', '钢琴', 1671435014],\n",
       " ['2022-12-19 15:31:12', '贝斯', 1671435072],\n",
       " ['2022-12-19 15:32:10', '钢琴', 1671435130],\n",
       " ['2022-12-19 15:33:08', '小提琴', 1671435188],\n",
       " ['2022-12-19 15:34:06', '圆号', 1671435246]]"
      ]
     },
     "execution_count": 87,
     "metadata": {},
     "output_type": "execute_result"
    }
   ],
   "source": [
    "_middle = []\n",
    "history = []\n",
    "\n",
    "for each in total_data_split:\n",
    "    if len(each) > 20:\n",
    "        _middle.append(each)\n",
    "    else:\n",
    "        pass\n",
    "\n",
    "for each in _middle:\n",
    "    for i in range(len(each)-21+1):\n",
    "        history.append(each[i:22+i])\n",
    "\n",
    "history[-1]"
   ]
  }
 ],
 "metadata": {
  "kernelspec": {
   "display_name": "Python 3.10.5 64-bit",
   "language": "python",
   "name": "python3"
  },
  "language_info": {
   "codemirror_mode": {
    "name": "ipython",
    "version": 3
   },
   "file_extension": ".py",
   "mimetype": "text/x-python",
   "name": "python",
   "nbconvert_exporter": "python",
   "pygments_lexer": "ipython3",
   "version": "3.10.9"
  },
  "orig_nbformat": 4,
  "vscode": {
   "interpreter": {
    "hash": "369f2c481f4da34e4445cda3fffd2e751bd1c4d706f27375911949ba6bb62e1c"
   }
  }
 },
 "nbformat": 4,
 "nbformat_minor": 2
}
