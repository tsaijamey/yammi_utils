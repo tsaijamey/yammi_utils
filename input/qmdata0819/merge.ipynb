{
 "cells": [
  {
   "cell_type": "markdown",
   "metadata": {},
   "source": [
    "读取2个文件。\n",
    "\n",
    "auto.csv文件来自自动采集\n",
    "temp.csv的内容来自手动采集"
   ]
  },
  {
   "cell_type": "code",
   "execution_count": 1,
   "metadata": {},
   "outputs": [],
   "source": [
    "import os\n",
    "import datetime\n",
    "from rich.console import Console\n",
    "\n",
    "console = Console()\n",
    "DIR = os.path.abspath('')  # 在ipynb中，DIR的获取需要用abspath的方式，传参为空。在普通的python文件里，可以直接读取dirname。这个差异，可能跟ipynb文件的内部结构有关。\n",
    "read_auto = open(DIR+'\\\\deal.csv', 'r', encoding='utf8')\n",
    "read_temp = open(DIR+'\\\\temp.csv', 'r', encoding='utf8')"
   ]
  },
  {
   "cell_type": "markdown",
   "metadata": {},
   "source": [
    "把 auto.csv 和 temp.csv 的内容，逐行读取进total_data的列表。\n",
    "列表构建成3列，分别是时间（文本格式），物品名，和一个空列。\n",
    "    空列的用途是对第1列进行时间格式的转换，转换成时间戳形式，目的是用于排序和查重"
   ]
  },
  {
   "cell_type": "code",
   "execution_count": 2,
   "metadata": {},
   "outputs": [],
   "source": [
    "total_data = []\n",
    "for line in read_auto:\n",
    "    line = line.strip()\n",
    "    if line != '':\n",
    "        try:\n",
    "            if ',' in line:\n",
    "                time_, item_ = line.split(',')\n",
    "                total_data.append([time_, item_, 0])\n",
    "        except Exception as e:\n",
    "            console.print(line)\n",
    "\n",
    "for line in read_temp:\n",
    "    line = line.strip()\n",
    "    if line != '':\n",
    "        time_, item_ = line.split(',')\n",
    "        total_data.append([time_, item_, 0])"
   ]
  },
  {
   "cell_type": "markdown",
   "metadata": {},
   "source": [
    "对 total_data 里的第1列进行转化，转成时间戳。\n",
    "转化后，存入到 total_data 的第3列\n",
    "然后按照第3列进行排序\n",
    "\n",
    "datetime库的用法 和 time库的用法相似。"
   ]
  },
  {
   "cell_type": "code",
   "execution_count": 5,
   "metadata": {},
   "outputs": [
    {
     "data": {
      "text/plain": [
       "[['2022-10-17 10:33:25', '架子鼓', 1665974005],\n",
       " ['2022-10-17 10:34:23', '圆号', 1665974063],\n",
       " ['2022-10-17 10:35:21', '吉他', 1665974121],\n",
       " ['2022-10-17 10:36:19', '小提琴', 1665974179],\n",
       " ['2022-10-17 10:37:17', '小提琴', 1665974237]]"
      ]
     },
     "execution_count": 5,
     "metadata": {},
     "output_type": "execute_result"
    }
   ],
   "source": [
    "for each in total_data:\n",
    "    time_stamp = datetime.datetime.timestamp(datetime.datetime.strptime(each[0], '%Y-%m-%d %H:%M:%S'))\n",
    "    each[2] = int(time_stamp)\n",
    "\n",
    "total_data.sort(key=lambda x:x[2])"
   ]
  },
  {
   "cell_type": "code",
   "execution_count": 4,
   "metadata": {},
   "outputs": [
    {
     "name": "stdout",
     "output_type": "stream",
     "text": [
      "5920\n"
     ]
    }
   ],
   "source": [
    "unique_check = []\n",
    "remove_list = []\n",
    "for each in total_data:\n",
    "    if each[2] in unique_check:\n",
    "        remove_list.append(each)\n",
    "    else:\n",
    "        unique_check.append(each[2])\n",
    "\n",
    "for each in remove_list:\n",
    "    total_data.remove(each)\n",
    "\n",
    "out = open(DIR+'\\\\merge_result.csv', 'w', encoding='utf8')\n",
    "\n",
    "for i in range(len(total_data)):\n",
    "    if i > 0:\n",
    "        if total_data[i][2] - total_data[i-1][2] > 58:\n",
    "            out.write('\\n')\n",
    "    out.write(total_data[i][0]+','+total_data[i][1]+'\\n')\n",
    "\n",
    "out.close()"
   ]
  }
 ],
 "metadata": {
  "kernelspec": {
   "display_name": "Python 3.10.5 64-bit",
   "language": "python",
   "name": "python3"
  },
  "language_info": {
   "codemirror_mode": {
    "name": "ipython",
    "version": 3
   },
   "file_extension": ".py",
   "mimetype": "text/x-python",
   "name": "python",
   "nbconvert_exporter": "python",
   "pygments_lexer": "ipython3",
   "version": "3.10.5"
  },
  "orig_nbformat": 4,
  "vscode": {
   "interpreter": {
    "hash": "369f2c481f4da34e4445cda3fffd2e751bd1c4d706f27375911949ba6bb62e1c"
   }
  }
 },
 "nbformat": 4,
 "nbformat_minor": 2
}
