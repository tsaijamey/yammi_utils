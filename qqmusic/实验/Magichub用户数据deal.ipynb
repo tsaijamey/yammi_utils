{
 "cells": [
  {
   "cell_type": "markdown",
   "metadata": {},
   "source": [
    "获得Magichub用户注册的基本数据"
   ]
  },
  {
   "cell_type": "markdown",
   "metadata": {},
   "source": [
    "筛选出唯一邮箱后缀"
   ]
  },
  {
   "cell_type": "code",
   "execution_count": null,
   "metadata": {},
   "outputs": [],
   "source": [
    "import os\n",
    "\n",
    "dict_read_in = open(r\"D:\\OneDrive\\0_caijia\\1_code\\python\\yammi_utils\\yammi_utils\\qqmusic\\实验\\mail.txt\", 'r', encoding=\"utf8\")\n",
    "user_read_in = open(r\"D:\\OneDrive\\0_caijia\\1_code\\python\\yammi_utils\\yammi_utils\\qqmusic\\实验\\magichub_users.csv\", \"r\", encoding=\"utf8\")\n",
    "\n",
    "dict_ = []\n",
    "\n",
    "split_list = []\n",
    "for line in dict_read_in:\n",
    "    line = line.strip()\n",
    "    split_list = line.split(',')\n",
    "    if len(split_list) >= 2:\n",
    "        dict_.append(split_list)"
   ]
  },
  {
   "cell_type": "markdown",
   "metadata": {},
   "source": [
    "邮箱与企业名称的对照关系字典"
   ]
  },
  {
   "cell_type": "code",
   "execution_count": null,
   "metadata": {},
   "outputs": [],
   "source": [
    "DICT_mail_and_company = {}\n",
    "for each in dict_:\n",
    "    DICT_mail_and_company[each[0]] = each[1]\n",
    "\n",
    "DICT_mail_and_company\n",
    "\n",
    "w = open(r'D:\\OneDrive\\0_caijia\\1_code\\python\\yammi_utils\\yammi_utils\\qqmusic\\实验\\company.txt', 'w' ,encoding='utf8')\n",
    "for each in DICT_mail_and_company:\n",
    "    w.write(each+','+DICT_mail_and_company[each]+'\\n')\n",
    "w.close()"
   ]
  },
  {
   "cell_type": "markdown",
   "metadata": {},
   "source": [
    "企业与类型之间的关联"
   ]
  },
  {
   "cell_type": "code",
   "execution_count": null,
   "metadata": {},
   "outputs": [],
   "source": [
    "DICT_company_and_type = {}\n",
    "for each in dict_:\n",
    "    if len(each) >= 3:\n",
    "        DICT_company_and_type[each[1]] = each[2]\n"
   ]
  },
  {
   "cell_type": "markdown",
   "metadata": {},
   "source": [
    "格式化用户列表"
   ]
  },
  {
   "cell_type": "code",
   "execution_count": null,
   "metadata": {},
   "outputs": [],
   "source": [
    "user_list = []\n",
    "info_list = []\n",
    "\n",
    "for line in user_read_in:\n",
    "    line = line.strip()\n",
    "    info_list = line.split(',')\n",
    "    t_list = []\n",
    "    for each in info_list:\n",
    "        t = each[1:-1]\n",
    "        t_list.append(t)\n",
    "    user_list.append(t_list)\n",
    "\n",
    "user_list = user_list[1:]"
   ]
  },
  {
   "cell_type": "markdown",
   "metadata": {},
   "source": [
    "逐个检查用户邮箱与字典的关系，如果在字典中存在对应的值，则单独存到一个新列表中"
   ]
  },
  {
   "cell_type": "code",
   "execution_count": null,
   "metadata": {},
   "outputs": [],
   "source": [
    "email_list = {}\n",
    "len_test = []\n",
    "counter = 0\n",
    "for each in user_list:\n",
    "    h,t = each[4].split('@')\n",
    "    if t not in email_list:\n",
    "        email_list[t] = 1\n",
    "    else:\n",
    "        x = email_list[t]\n",
    "        email_list[t] = x + 1\n",
    "\n",
    "# print(email_list)\n",
    "email_company_number = []\n",
    "for each in email_list:\n",
    "    if each in DICT_mail_and_company:\n",
    "        email_company_number.append([each, DICT_mail_and_company[each], email_list[each]])\n",
    "\n",
    "print(email_company_number)\n",
    "\n",
    "emails = open(r'D:\\OneDrive\\0_caijia\\1_code\\python\\yammi_utils\\yammi_utils\\qqmusic\\实验\\emails.txt', 'w' , encoding='utf8')\n",
    "for each in email_company_number:\n",
    "    emails.write(each[0]+','+each[1]+','+str(each[2])+'\\n')\n",
    "\n",
    "emails.close()"
   ]
  }
 ],
 "metadata": {
  "kernelspec": {
   "display_name": "Python 3.10.5 64-bit",
   "language": "python",
   "name": "python3"
  },
  "language_info": {
   "codemirror_mode": {
    "name": "ipython",
    "version": 3
   },
   "file_extension": ".py",
   "mimetype": "text/x-python",
   "name": "python",
   "nbconvert_exporter": "python",
   "pygments_lexer": "ipython3",
   "version": "3.10.5"
  },
  "orig_nbformat": 4,
  "vscode": {
   "interpreter": {
    "hash": "369f2c481f4da34e4445cda3fffd2e751bd1c4d706f27375911949ba6bb62e1c"
   }
  }
 },
 "nbformat": 4,
 "nbformat_minor": 2
}
