{
 "cells": [
  {
   "cell_type": "code",
   "execution_count": 59,
   "metadata": {},
   "outputs": [
    {
     "name": "stdout",
     "output_type": "stream",
     "text": [
      "系统是linux，模型路径为：/home/yammi/桌面/github/yammi_utils/qqmusic/model/rf_randomised.m\n",
      "系统是linux，文件路径为：/home/yammi/桌面/github/yammi_utils/qqmusic/auto2.csv\n"
     ]
    }
   ],
   "source": [
    "import os\n",
    "import platform\n",
    "\n",
    "DIR = os.path.abspath(\"\")\n",
    "\n",
    "if platform.system().lower() == 'windows':\n",
    "    MODEL_PATH = DIR + './model/rf_randomised.m'\n",
    "    FILE_PATH = DIR + './auto2.csv'\n",
    "    print(f'系统是windows，模型路径为：{MODEL_PATH}')\n",
    "    print(f'系统是windows，文件路径为：{FILE_PATH}')\n",
    "elif platform.system().lower() == 'linux':\n",
    "    MODEL_PATH = DIR + '/model/rf_randomised.m'\n",
    "    FILE_PATH = DIR + '/auto2.csv'\n",
    "    print(f'系统是linux，模型路径为：{MODEL_PATH}')\n",
    "    print(f'系统是linux，文件路径为：{FILE_PATH}')"
   ]
  },
  {
   "cell_type": "code",
   "execution_count": 60,
   "metadata": {},
   "outputs": [
    {
     "data": {
      "text/plain": [
       "[['钢琴',\n",
       "  '吉他',\n",
       "  '钢琴',\n",
       "  '贝斯',\n",
       "  '小提琴',\n",
       "  '吉他',\n",
       "  '吉他',\n",
       "  '架子鼓',\n",
       "  '小提琴',\n",
       "  '钢琴',\n",
       "  '贝斯',\n",
       "  '吉他',\n",
       "  '钢琴',\n",
       "  '钢琴',\n",
       "  '架子鼓',\n",
       "  '架子鼓',\n",
       "  '钢琴',\n",
       "  '架子鼓',\n",
       "  '小提琴',\n",
       "  '小提琴']]"
      ]
     },
     "execution_count": 60,
     "metadata": {},
     "output_type": "execute_result"
    }
   ],
   "source": [
    "import joblib\n",
    "model = joblib.load(MODEL_PATH)\n",
    "\n",
    "read_csv = open(FILE_PATH, 'r', encoding='utf8')\n",
    "\n",
    "data = []\n",
    "for line in read_csv:\n",
    "    line = line.strip()\n",
    "    _, item_ = line.split(',')\n",
    "    data.append(item_)\n",
    "\n",
    "train_data = [data[-21:-1]]\n",
    "\n",
    "train_data"
   ]
  },
  {
   "cell_type": "code",
   "execution_count": 61,
   "metadata": {},
   "outputs": [
    {
     "name": "stdout",
     "output_type": "stream",
     "text": [
      "[['钢琴', 1], ['小提琴', 1], ['吉他', 0], ['高倍乐器', 0], ['贝斯', -1]]\n"
     ]
    },
    {
     "data": {
      "text/plain": [
       "[1, 0, 1, -1, 1, 0, 0, 0, 1, 1, -1, 0, 1, 1, 1, 1, 1, 1, 1, 1]"
      ]
     },
     "execution_count": 61,
     "metadata": {},
     "output_type": "execute_result"
    }
   ],
   "source": [
    "STR = ['钢琴', '小提琴', '吉他', '贝斯', '高倍乐器']\n",
    "\n",
    "High_Rate = ['架子鼓', '竖琴', '萨克斯风', '圆号']\n",
    "\n",
    "for line in train_data:\n",
    "    counter = [line.count('钢琴'),line.count('小提琴'),line.count('吉他'),line.count('贝斯'),0]\n",
    "    for each in line:\n",
    "        if each in High_Rate:\n",
    "            counter[4] += 1\n",
    "    compare_list = []\n",
    "    for i in range(5):\n",
    "        compare_list.append([STR[i],counter[i]])\n",
    "    \n",
    "    compare_list.sort(key=lambda x:x[1],reverse=1)\n",
    "    compare_list[0][1] = 1\n",
    "    compare_list[1][1] = 1\n",
    "    compare_list[2][1] = 0\n",
    "    compare_list[3][1] = 0\n",
    "    compare_list[4][1] = -1\n",
    "\n",
    "    print(compare_list)\n",
    "\n",
    "    replace_line = []\n",
    "    for each in line:\n",
    "        for item in compare_list:\n",
    "            if each == item[0]:\n",
    "                t = item[1]\n",
    "        replace_line.append(t)\n",
    "\n",
    "replace_line"
   ]
  },
  {
   "cell_type": "code",
   "execution_count": 62,
   "metadata": {},
   "outputs": [
    {
     "name": "stdout",
     "output_type": "stream",
     "text": [
      "['col_1', 'col_2', 'col_3', 'col_4', 'col_5', 'col_6', 'col_7', 'col_8', 'col_9', 'col_10', 'col_11', 'col_12', 'col_13', 'col_14', 'col_15', 'col_16', 'col_17', 'col_18', 'col_19', 'col_20']\n",
      "   col_1  col_2  col_3  col_4  col_5  col_6  col_7  col_8  col_9  col_10  \\\n",
      "0      1      0      1     -1      1      0      0      0      1       1   \n",
      "\n",
      "   col_11  col_12  col_13  col_14  col_15  col_16  col_17  col_18  col_19  \\\n",
      "0      -1       0       1       1       1       1       1       1       1   \n",
      "\n",
      "   col_20  \n",
      "0       1  \n",
      "[1]\n"
     ]
    }
   ],
   "source": [
    "import pandas as pd\n",
    "\n",
    "# 构建一个header\n",
    "header = []\n",
    "for i in range(1,21):\n",
    "    pre_ = 'col_' + str(i)\n",
    "    header.append(pre_)\n",
    "\n",
    "data = pd.DataFrame([replace_line], columns=header)\n",
    "\n",
    "prediction = model.predict(data)\n",
    "print(prediction)"
   ]
  }
 ],
 "metadata": {
  "kernelspec": {
   "display_name": "Python 3.10.6 64-bit",
   "language": "python",
   "name": "python3"
  },
  "language_info": {
   "codemirror_mode": {
    "name": "ipython",
    "version": 3
   },
   "file_extension": ".py",
   "mimetype": "text/x-python",
   "name": "python",
   "nbconvert_exporter": "python",
   "pygments_lexer": "ipython3",
   "version": "3.10.6"
  },
  "orig_nbformat": 4,
  "vscode": {
   "interpreter": {
    "hash": "916dbcbb3f70747c44a77c7bcd40155683ae19c65e1c03b4aa3499c5328201f1"
   }
  }
 },
 "nbformat": 4,
 "nbformat_minor": 2
}
