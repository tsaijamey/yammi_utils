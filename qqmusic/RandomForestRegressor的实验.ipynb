{
 "cells": [
  {
   "cell_type": "code",
   "execution_count": 49,
   "metadata": {},
   "outputs": [
    {
     "data": {
      "text/html": [
       "<pre style=\"white-space:pre;overflow-x:auto;line-height:normal;font-family:Menlo,'DejaVu Sans Mono',consolas,'Courier New',monospace\"><span style=\"color: #800080; text-decoration-color: #800080; font-weight: bold\">当前工作目录</span>为：<span style=\"color: #008080; text-decoration-color: #008080\">d:\\OneDrive\\0_caijia\\1_code\\python\\yammi_utils\\yammi_utils\\qqmusic</span>\n",
       "</pre>\n"
      ],
      "text/plain": [
       "\u001b[1;35m当前工作目录\u001b[0m为：\u001b[36md:\\OneDrive\\0_caijia\\1_code\\python\\yammi_utils\\yammi_utils\\qqmusic\u001b[0m\n"
      ]
     },
     "metadata": {},
     "output_type": "display_data"
    }
   ],
   "source": [
    "from sklearn.tree import DecisionTreeClassifier,DecisionTreeRegressor\n",
    "from sklearn.ensemble import RandomForestClassifier,RandomForestRegressor\n",
    "import pandas as pd\n",
    "from numpy import *\n",
    "import copy\n",
    "import joblib\n",
    "from kingdoms import random_forest_clf_train, random_forest_reg_train, load_rf_reg_model\n",
    "import os\n",
    "from rich.console import Console\n",
    "import joblib\n",
    "\n",
    "\n",
    "\n",
    "console = Console()\n",
    "\n",
    "# 读取数据集\n",
    "DATA_PATH = os.path.dirname(os.path.abspath('')) + '\\\\input\\\\qmdata0819\\\\'\n",
    "\n",
    "# 指定目录为当前运行的脚本所在的目录\n",
    "DIR = os.path.abspath('')\n",
    "console.print(f\"[bold magenta]当前工作目录[/bold magenta]为：[cyan]{DIR}[/cyan]\")\n",
    "\n"
   ]
  },
  {
   "cell_type": "code",
   "execution_count": 50,
   "metadata": {},
   "outputs": [],
   "source": [
    "# CLF_DF = pd.read_csv(DATA_PATH+'all_num_datasets_rebuilt.csv')\n",
    "# clf = random_forest_clf_train(CLF_DF, DIR ,'item_num')"
   ]
  },
  {
   "cell_type": "code",
   "execution_count": 60,
   "metadata": {},
   "outputs": [],
   "source": [
    "REG_DF = pd.read_csv(DATA_PATH+'diff_result_20_dataset.csv')\n",
    "X = REG_DF.drop(columns='result',axis=1)\n",
    "y = REG_DF['result']"
   ]
  },
  {
   "cell_type": "code",
   "execution_count": 62,
   "metadata": {},
   "outputs": [
    {
     "data": {
      "text/html": [
       "<pre style=\"white-space:pre;overflow-x:auto;line-height:normal;font-family:Menlo,'DejaVu Sans Mono',consolas,'Courier New',monospace\">MAE：<span style=\"color: #008080; text-decoration-color: #008080; font-weight: bold\">1.5154677242888404</span>\n",
       " MSE：<span style=\"color: #008080; text-decoration-color: #008080; font-weight: bold\">3.523928254923413</span>\n",
       "</pre>\n"
      ],
      "text/plain": [
       "MAE：\u001b[1;36m1.5154677242888404\u001b[0m\n",
       " MSE：\u001b[1;36m3.523928254923413\u001b[0m\n"
      ]
     },
     "metadata": {},
     "output_type": "display_data"
    },
    {
     "data": {
      "text/html": [
       "<pre style=\"white-space:pre;overflow-x:auto;line-height:normal;font-family:Menlo,'DejaVu Sans Mono',consolas,'Courier New',monospace\"><span style=\"font-weight: bold\">[[</span><span style=\"color: #008080; text-decoration-color: #008080; font-weight: bold\">1</span>, <span style=\"color: #008080; text-decoration-color: #008080; font-weight: bold\">1.5154677242888404</span>, <span style=\"color: #008080; text-decoration-color: #008080; font-weight: bold\">3.523928254923413</span><span style=\"font-weight: bold\">]]</span>\n",
       "</pre>\n"
      ],
      "text/plain": [
       "\u001b[1m[\u001b[0m\u001b[1m[\u001b[0m\u001b[1;36m1\u001b[0m, \u001b[1;36m1.5154677242888404\u001b[0m, \u001b[1;36m3.523928254923413\u001b[0m\u001b[1m]\u001b[0m\u001b[1m]\u001b[0m\n"
      ]
     },
     "metadata": {},
     "output_type": "display_data"
    }
   ],
   "source": [
    "from sklearn.model_selection import train_test_split\n",
    "from sklearn.metrics import mean_absolute_error, mean_squared_error\n",
    "X_train,X_test,y_train,y_test=train_test_split(X,y,test_size=0.2,random_state=42)\n",
    "\n",
    "reg_mae = 0\n",
    "reg_mse = 0\n",
    "seed = 1\n",
    "reg_mean_list = []\n",
    "\n",
    "while seed <= 1:\n",
    "    model = RandomForestRegressor(random_state=seed)\n",
    "    reg_model = model.fit(X_train, y_train.values)\n",
    "\n",
    "    y_predict = reg_model.predict(X_test)\n",
    "    reg_mae = mean_absolute_error(y_test, y_predict)\n",
    "    reg_mse = mean_squared_error(y_test,y_predict)\n",
    "    console.print(f'MAE：{reg_mae}\\n MSE：{reg_mse}')\n",
    "    train_result = [seed, reg_mae, reg_mse]\n",
    "    reg_mean_list.append(train_result)\n",
    "    seed += 1\n",
    "\n",
    "console.print(reg_mean_list)\n",
    "\n",
    "# joblib.dump(model, DIR+\"./model/rf_reg_training.m\")"
   ]
  },
  {
   "cell_type": "code",
   "execution_count": 7,
   "metadata": {},
   "outputs": [
    {
     "name": "stdout",
     "output_type": "stream",
     "text": [
      "4\n",
      "2022-10-15 13:00:12\n"
     ]
    },
    {
     "data": {
      "text/plain": [
       "['萨克斯风']"
      ]
     },
     "execution_count": 7,
     "metadata": {},
     "output_type": "execute_result"
    }
   ],
   "source": [
    "print(len('萨克斯风'))\n",
    "\n",
    "text = '萨克斯风2022-10-15 13:00:12'\n",
    "import re\n",
    "date_all = re.findall(r\"(\\d{4}-\\d{1,2}-\\d{1,2}\\s\\d{1,2}:\\d{1,2}:\\d{1,2})\",text)\n",
    "for item in date_all:\n",
    "    print(item)\n",
    "\n",
    "re.findall('萨克斯风', text)"
   ]
  }
 ],
 "metadata": {
  "kernelspec": {
   "display_name": "Python 3.10.5 64-bit",
   "language": "python",
   "name": "python3"
  },
  "language_info": {
   "codemirror_mode": {
    "name": "ipython",
    "version": 3
   },
   "file_extension": ".py",
   "mimetype": "text/x-python",
   "name": "python",
   "nbconvert_exporter": "python",
   "pygments_lexer": "ipython3",
   "version": "3.10.7"
  },
  "orig_nbformat": 4,
  "vscode": {
   "interpreter": {
    "hash": "369f2c481f4da34e4445cda3fffd2e751bd1c4d706f27375911949ba6bb62e1c"
   }
  }
 },
 "nbformat": 4,
 "nbformat_minor": 2
}
