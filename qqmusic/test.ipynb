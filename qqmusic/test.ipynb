{
 "cells": [
  {
   "cell_type": "markdown",
   "metadata": {},
   "source": [
    "测试排序"
   ]
  },
  {
   "cell_type": "code",
   "execution_count": 2,
   "metadata": {},
   "outputs": [
    {
     "data": {
      "text/plain": [
       "[1, 9, 11, 18]"
      ]
     },
     "execution_count": 2,
     "metadata": {},
     "output_type": "execute_result"
    }
   ],
   "source": [
    "counter = [1,18,9,11]\n",
    "counter.sort(reverse=0)\n",
    "\n",
    "counter"
   ]
  },
  {
   "cell_type": "markdown",
   "metadata": {},
   "source": [
    "测试字典排序"
   ]
  },
  {
   "cell_type": "code",
   "execution_count": 14,
   "metadata": {},
   "outputs": [
    {
     "data": {
      "text/html": [
       "<pre style=\"white-space:pre;overflow-x:auto;line-height:normal;font-family:Menlo,'DejaVu Sans Mono',consolas,'Courier New',monospace\"><span style=\"color: #008080; text-decoration-color: #008080; font-weight: bold\">20</span>\n",
       "</pre>\n"
      ],
      "text/plain": [
       "\u001b[1;36m20\u001b[0m\n"
      ]
     },
     "metadata": {},
     "output_type": "display_data"
    },
    {
     "data": {
      "text/html": [
       "<pre style=\"white-space:pre;overflow-x:auto;line-height:normal;font-family:Menlo,'DejaVu Sans Mono',consolas,'Courier New',monospace\">预测-预测:<span style=\"color: #008080; text-decoration-color: #008080; font-weight: bold\">1</span> | 补充-补充:<span style=\"color: #008080; text-decoration-color: #008080; font-weight: bold\">6</span> | 预测-补充:<span style=\"color: #008080; text-decoration-color: #008080; font-weight: bold\">0</span> | 补充-预测:<span style=\"color: #008080; text-decoration-color: #008080; font-weight: bold\">1</span> | 预测-忽略:<span style=\"color: #008080; text-decoration-color: #008080; font-weight: bold\">3</span> | 补充-忽略:<span style=\"color: #008080; text-decoration-color: #008080; font-weight: bold\">2</span> | \n",
       "忽略-预测:<span style=\"color: #008080; text-decoration-color: #008080; font-weight: bold\">3</span> | 忽略-补充:<span style=\"color: #008080; text-decoration-color: #008080; font-weight: bold\">3</span> | \n",
       "</pre>\n"
      ],
      "text/plain": [
       "预测-预测:\u001b[1;36m1\u001b[0m | 补充-补充:\u001b[1;36m6\u001b[0m | 预测-补充:\u001b[1;36m0\u001b[0m | 补充-预测:\u001b[1;36m1\u001b[0m | 预测-忽略:\u001b[1;36m3\u001b[0m | 补充-忽略:\u001b[1;36m2\u001b[0m | \n",
       "忽略-预测:\u001b[1;36m3\u001b[0m | 忽略-补充:\u001b[1;36m3\u001b[0m | \n"
      ]
     },
     "metadata": {},
     "output_type": "display_data"
    }
   ],
   "source": [
    "from rich.console import Console\n",
    "console = Console()\n",
    "temp_dict = {\n",
    "    '预测-预测': 0,\n",
    "    '补充-补充': 0,\n",
    "    '预测-补充': 0,\n",
    "    '补充-预测': 0,   \n",
    "    '预测-忽略': 0,    \n",
    "    '补充-忽略': 0,\n",
    "    '忽略-预测': 0,\n",
    "    '忽略-补充': 0,\n",
    "}\n",
    "temp_list = ['预测', '补充','忽略','忽略','预测','补充', '预测', '忽略', '补充', '忽略', '预测', '忽略', '预测', '预测', '忽略', '补充', '补充', '忽略', '补充', '补充', '忽略', '预测', '忽略', '忽略', '补充', '补充', '补充', '补充', '补充']\n",
    "console.print(len(temp_list[-20:]))\n",
    "for k in range(-20,0):\n",
    "    if temp_list[k] == temp_list[k+1] and temp_list[k] != '忽略' and temp_list[k+1] != '忽略':\n",
    "        if temp_list[k] == '预测':\n",
    "            temp_dict['预测-预测'] = temp_dict['预测-预测'] + 1\n",
    "        if temp_list[k] == '补充':\n",
    "            temp_dict['补充-补充'] = temp_dict['补充-补充'] + 1\n",
    "    if temp_list[k] != temp_list[k+1]:\n",
    "        if temp_list[k] == '预测' and temp_list[k+1] == '补充':\n",
    "            temp_dict['预测-补充'] = temp_dict['预测-补充'] + 1\n",
    "        if temp_list[k] == '预测' and temp_list[k+1] == '忽略':\n",
    "            temp_dict['预测-忽略'] = temp_dict['预测-忽略'] + 1            \n",
    "        if temp_list[k] == '补充' and temp_list[k+1] == '预测':\n",
    "            temp_dict['补充-预测'] = temp_dict['补充-预测'] + 1\n",
    "        if temp_list[k] == '补充' and temp_list[k+1] == '忽略':\n",
    "            temp_dict['补充-忽略'] = temp_dict['补充-忽略'] + 1\n",
    "        if temp_list[k] == '忽略' and temp_list[k+1] == '预测':\n",
    "            temp_dict['忽略-预测'] = temp_dict['忽略-预测'] + 1\n",
    "        if temp_list[k] == '忽略' and temp_list[k+1] == '补充':\n",
    "            temp_dict['忽略-补充'] = temp_dict['忽略-补充'] + 1\n",
    "\n",
    "msg_list = ''\n",
    "for each in temp_dict:\n",
    "    msg_list = msg_list + each\n",
    "    msg_list = msg_list + \":\" + str(temp_dict[each]) + \" | \"\n",
    "\n",
    "console.print(msg_list)"
   ]
  },
  {
   "cell_type": "markdown",
   "metadata": {},
   "source": [
    "微信消息推送测试"
   ]
  },
  {
   "cell_type": "code",
   "execution_count": 7,
   "metadata": {},
   "outputs": [
    {
     "name": "stdout",
     "output_type": "stream",
     "text": [
      "http://www.pushplus.plus/send?token=f848a62a0c7541fd8519247fd3f139f9&title=音乐王国&content=用这个消息推送试试监控王国的运行。&template=html&topic=1022111101\n",
      "{\"code\":200,\"msg\":\"请求成功\",\"data\":\"840adbc78d99439aace6963c54f334dd\",\"count\":null}\n"
     ]
    }
   ],
   "source": [
    "import requests\n",
    "# Python源码资料电子书领取群 279199867\n",
    "\n",
    "def send_wechat(msg_title,msg):\n",
    "    token = 'f848a62a0c7541fd8519247fd3f139f9' #前边复制到那个token\n",
    "    title = msg_title\n",
    "    content = msg\n",
    "    template = 'html'\n",
    "    topic = '1022111101'\n",
    "    url = f\"http://www.pushplus.plus/send?token={token}&title={title}&content={content}&template={template}&topic={topic}\"\n",
    "    print(url)\n",
    "    r = requests.get(url=url)\n",
    "    print(r.text)\n",
    "\n",
    "def send_wechat_self(msg):\n",
    "    token = 'f848a62a0c7541fd8519247fd3f139f9'#前边复制到那个token\n",
    "    title = 'Music Kingdom'\n",
    "    content = msg\n",
    "    template = 'html'\n",
    "    url = f\"https://www.pushplus.plus/send?token={token}&title={title}&content={content}&template={template}\"\n",
    "    print(url)\n",
    "    r = requests.get(url=url)\n",
    "    print(r.text)\n",
    "\n",
    "if __name__ == '__main__':\n",
    "    msg = '用这个消息推送试试监控王国的运行。'\n",
    "    send_wechat('音乐王国',msg)"
   ]
  }
 ],
 "metadata": {
  "kernelspec": {
   "display_name": "Python 3.10.6 64-bit",
   "language": "python",
   "name": "python3"
  },
  "language_info": {
   "codemirror_mode": {
    "name": "ipython",
    "version": 3
   },
   "file_extension": ".py",
   "mimetype": "text/x-python",
   "name": "python",
   "nbconvert_exporter": "python",
   "pygments_lexer": "ipython3",
   "version": "3.10.6"
  },
  "orig_nbformat": 4,
  "vscode": {
   "interpreter": {
    "hash": "916dbcbb3f70747c44a77c7bcd40155683ae19c65e1c03b4aa3499c5328201f1"
   }
  }
 },
 "nbformat": 4,
 "nbformat_minor": 2
}
